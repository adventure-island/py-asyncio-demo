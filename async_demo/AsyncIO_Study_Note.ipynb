{
  "nbformat": 4,
  "nbformat_minor": 0,
  "metadata": {
    "colab": {
      "provenance": [],
      "toc_visible": true
    },
    "kernelspec": {
      "name": "python3",
      "display_name": "Python 3"
    }
  },
  "cells": [
    {
      "cell_type": "markdown",
      "metadata": {
        "id": "2OqAjIG-zglf"
      },
      "source": [
        "# AsyncIO Study Note"
      ]
    },
    {
      "cell_type": "markdown",
      "metadata": {
        "id": "tv1vyKpoSBvD"
      },
      "source": [
        "A fancy way of writing concurrent code without threading."
      ]
    },
    {
      "cell_type": "markdown",
      "metadata": {
        "id": "ux1vXG_T0APr"
      },
      "source": [
        "## Parallelisim - Python Thread and GIL\n",
        "(**Doing** multiple things at once)\n",
        "*   [Understanding the Python GIL](https://www.youtube.com/watch?v=Obt-vMVdM8s&t=1746s&ab_channel=DavidBeazley)\n",
        "*   [A Zoomable Interactive Python Thread Visualization](http://www.dabeaz.com/GIL/gilvis/index.html)\n",
        "\n"
      ]
    },
    {
      "cell_type": "markdown",
      "metadata": {
        "id": "VHNVmwca0xgP"
      },
      "source": [
        "## Concurrency - Async I/O\n",
        "(**Dealing** multiple things at once)\n",
        "*  [Coroutine Concurrency in Python 3 with asyncio](https://www.youtube.com/watch?v=c5wodlqGK-M&ab_channel=NDCConferences)"
      ]
    },
    {
      "cell_type": "markdown",
      "metadata": {
        "id": "pZbhJqAZ0soB"
      },
      "source": [
        "### Building Coroutines from scratch using Python *generator*\n",
        "#### Example - The Fib sequence\n"
      ]
    },
    {
      "cell_type": "code",
      "metadata": {
        "id": "7hITqlo8uxc3"
      },
      "source": [
        "import time\n",
        "from math import sqrt"
      ],
      "execution_count": null,
      "outputs": []
    },
    {
      "cell_type": "code",
      "metadata": {
        "id": "rMeNxXJ156fU"
      },
      "source": [
        "def fib():\n",
        "  a = 2\n",
        "  b = 1\n",
        "  yield a\n",
        "  while True:\n",
        "    yield b\n",
        "    a, b = b, a + b"
      ],
      "execution_count": null,
      "outputs": []
    },
    {
      "cell_type": "markdown",
      "metadata": {
        "id": "vhjrkhhiSd8i"
      },
      "source": [
        "Calling *fib()* DOES NOT execute it, it returns a **generator** object."
      ]
    },
    {
      "cell_type": "code",
      "metadata": {
        "id": "ky3P7pSa8TXU",
        "colab": {
          "base_uri": "https://localhost:8080/"
        },
        "outputId": "216f43c2-10f4-45ee-8abe-e1d03eb8a176"
      },
      "source": [
        "f = fib()\n",
        "f"
      ],
      "execution_count": null,
      "outputs": [
        {
          "output_type": "execute_result",
          "data": {
            "text/plain": [
              "<generator object fib at 0x7f64a73c8eb8>"
            ]
          },
          "metadata": {
            "tags": []
          },
          "execution_count": 3
        }
      ]
    },
    {
      "cell_type": "markdown",
      "metadata": {
        "id": "rKYCRTq1BmGN"
      },
      "source": [
        "Calling **`next()`** triggers one iteration of the actual execution"
      ]
    },
    {
      "cell_type": "code",
      "metadata": {
        "colab": {
          "base_uri": "https://localhost:8080/"
        },
        "id": "cgC4owoeBYMe",
        "outputId": "5df0eddf-13bb-4c1c-81ea-f369d6951f93"
      },
      "source": [
        "next(f)"
      ],
      "execution_count": null,
      "outputs": [
        {
          "output_type": "execute_result",
          "data": {
            "text/plain": [
              "2"
            ]
          },
          "metadata": {
            "tags": []
          },
          "execution_count": 4
        }
      ]
    },
    {
      "cell_type": "code",
      "metadata": {
        "id": "mr4wPln98VIS",
        "colab": {
          "base_uri": "https://localhost:8080/"
        },
        "outputId": "24a6791b-a825-4588-ceff-11da2e471535"
      },
      "source": [
        "from itertools import islice\n",
        "list(islice(fib(), 20))"
      ],
      "execution_count": null,
      "outputs": [
        {
          "output_type": "execute_result",
          "data": {
            "text/plain": [
              "[2,\n",
              " 1,\n",
              " 3,\n",
              " 4,\n",
              " 7,\n",
              " 11,\n",
              " 18,\n",
              " 29,\n",
              " 47,\n",
              " 76,\n",
              " 123,\n",
              " 199,\n",
              " 322,\n",
              " 521,\n",
              " 843,\n",
              " 1364,\n",
              " 2207,\n",
              " 3571,\n",
              " 5778,\n",
              " 9349]"
            ]
          },
          "metadata": {
            "tags": []
          },
          "execution_count": 5
        }
      ]
    },
    {
      "cell_type": "markdown",
      "metadata": {
        "id": "ikPankMH80VW"
      },
      "source": [
        "#### A linear search\n",
        "Returns the first item satisfying a predicate"
      ]
    },
    {
      "cell_type": "code",
      "metadata": {
        "id": "1rtDqLrK8pah"
      },
      "source": [
        "def search(iterable, predicate):\n",
        "  for item in iterable:\n",
        "    if predicate(item):\n",
        "      return item\n",
        "  raise ValueError(\"Not found\")"
      ],
      "execution_count": null,
      "outputs": []
    },
    {
      "cell_type": "code",
      "metadata": {
        "id": "dsVArk5l9K8u",
        "colab": {
          "base_uri": "https://localhost:8080/"
        },
        "outputId": "7345cb6c-0e6c-436e-9c3e-5331af2b1517"
      },
      "source": [
        "search(fib(), lambda x: len(str(x)) >= 3)"
      ],
      "execution_count": null,
      "outputs": [
        {
          "output_type": "execute_result",
          "data": {
            "text/plain": [
              "123"
            ]
          },
          "metadata": {
            "tags": []
          },
          "execution_count": 8
        }
      ]
    },
    {
      "cell_type": "markdown",
      "metadata": {
        "id": "QTe0laVB9kfs"
      },
      "source": [
        "#### Cooperative linear search\n",
        "Periodically yields control to caller and on completion returns result (in excpetion payload)"
      ]
    },
    {
      "cell_type": "code",
      "metadata": {
        "id": "SCI0zYEQ9Q9a"
      },
      "source": [
        "def async_search(iterable, predicate):\n",
        "  print('initializing generator')\n",
        "  call_counter = 0\n",
        "\n",
        "  for item in iterable:\n",
        "\n",
        "    call_counter += 1\n",
        "\n",
        "    print(f'async_search - called {call_counter} times')\n",
        "    if predicate(item):\n",
        "      # `return` raises `StopIteration` to signal\n",
        "      # the iterator has reached the end of the data\n",
        "      print(f'async_search - predicate returned True')\n",
        "      return item\n",
        "    # interrupt the loop and hand over control to caller\n",
        "    # `yield` is a shorthand for `yield None`\n",
        "    yield\n",
        "  raise ValueError(\"Not found\")"
      ],
      "execution_count": null,
      "outputs": []
    },
    {
      "cell_type": "code",
      "metadata": {
        "id": "p4aXkwJu-g2I"
      },
      "source": [
        "g = async_search(fib(), lambda x: len(str(x)) >= 3)"
      ],
      "execution_count": null,
      "outputs": []
    },
    {
      "cell_type": "code",
      "metadata": {
        "id": "bBhhtRcE-pZW",
        "colab": {
          "base_uri": "https://localhost:8080/"
        },
        "outputId": "4ee93ce7-a9b6-4663-e7ba-510386cf05ed"
      },
      "source": [
        "# Now we can perform the search and do more than one thing concurrently\n",
        "next(g)\n",
        "next(g)\n",
        "next(g)\n",
        "print(\"Do other stuff 1\")\n",
        "next(g)\n",
        "next(g)\n",
        "next(g)\n",
        "next(g)\n",
        "print(\"Do other stuff 2\")\n",
        "next(g)\n",
        "next(g)\n",
        "print(\"Do other stuff 3\")\n",
        "next(g)\n"
      ],
      "execution_count": null,
      "outputs": [
        {
          "output_type": "stream",
          "text": [
            "initializing generator\n",
            "async_search - called 1 times\n",
            "async_search - called 2 times\n",
            "async_search - called 3 times\n",
            "Do other stuff 1\n",
            "async_search - called 4 times\n",
            "async_search - called 5 times\n",
            "async_search - called 6 times\n",
            "async_search - called 7 times\n",
            "Do other stuff 2\n",
            "async_search - called 8 times\n",
            "async_search - called 9 times\n",
            "Do other stuff 3\n",
            "async_search - called 10 times\n"
          ],
          "name": "stdout"
        }
      ]
    },
    {
      "cell_type": "code",
      "metadata": {
        "id": "C4Fuj9P3-_1J",
        "colab": {
          "base_uri": "https://localhost:8080/",
          "height": 235
        },
        "outputId": "98ae1aef-e203-49b8-db50-966b246f5dd6"
      },
      "source": [
        "# Eventually `return` in `async_search` causes an exception to be raised by\n",
        "# generator and result is wrapped in the `StopIteration` exception\n",
        "next(g)"
      ],
      "execution_count": null,
      "outputs": [
        {
          "output_type": "stream",
          "text": [
            "async_search - called 11 times\n",
            "async_search - predicate returned True\n"
          ],
          "name": "stdout"
        },
        {
          "output_type": "error",
          "ename": "StopIteration",
          "evalue": "ignored",
          "traceback": [
            "\u001b[0;31m---------------------------------------------------------------------------\u001b[0m",
            "\u001b[0;31mStopIteration\u001b[0m                             Traceback (most recent call last)",
            "\u001b[0;32m<ipython-input-12-19c2f3542de0>\u001b[0m in \u001b[0;36m<module>\u001b[0;34m()\u001b[0m\n\u001b[1;32m      1\u001b[0m \u001b[0;31m# Eventually `return` in `async_search` causes an exception to be raised by\u001b[0m\u001b[0;34m\u001b[0m\u001b[0;34m\u001b[0m\u001b[0;34m\u001b[0m\u001b[0m\n\u001b[1;32m      2\u001b[0m \u001b[0;31m# generator and result is wrapped in the `StopIteration` exception\u001b[0m\u001b[0;34m\u001b[0m\u001b[0;34m\u001b[0m\u001b[0;34m\u001b[0m\u001b[0m\n\u001b[0;32m----> 3\u001b[0;31m \u001b[0mnext\u001b[0m\u001b[0;34m(\u001b[0m\u001b[0mg\u001b[0m\u001b[0;34m)\u001b[0m\u001b[0;34m\u001b[0m\u001b[0;34m\u001b[0m\u001b[0m\n\u001b[0m",
            "\u001b[0;31mStopIteration\u001b[0m: 123"
          ]
        }
      ]
    },
    {
      "cell_type": "markdown",
      "metadata": {
        "id": "0KCfc2_sAmsq"
      },
      "source": [
        "**Conclusion:** \n",
        "* We can use `generator` to create functions to support concurrency in Python\n",
        "* A **coroutine** essentially is an ***interruptable*** function where we can pause/resume execution at the point we left off at some later time"
      ]
    },
    {
      "cell_type": "markdown",
      "metadata": {
        "id": "GiS4wyX6A2D5"
      },
      "source": [
        "#### Building Task and Scheduler"
      ]
    },
    {
      "cell_type": "code",
      "metadata": {
        "id": "JYbUyknu_yRD"
      },
      "source": [
        "class Task:\n",
        "  next_id = 0\n",
        "\n",
        "  def __init__(self, routine):\n",
        "    self.id = Task.next_id\n",
        "    self.routine = routine\n",
        "    Task.next_id += 1\n",
        "\n",
        "from collections import deque\n",
        "\n",
        "class Scheduler: \n",
        "  def __init__(self):\n",
        "    # Use a `deque` to pop and push tasks from both\n",
        "    # end of the queue\n",
        "    self.runnable_tasks = deque()\n",
        "    # Use a `dict` to store the (task_id, task_result) pairs\n",
        "    self.completed_task_result = {}\n",
        "    self.failed_task_errors = {}\n",
        "\n",
        "  def add(self, routine):\n",
        "    # Wrap the routine with a `Task` and push the task to the queue\n",
        "    task = Task(routine)\n",
        "    self.runnable_tasks.append(task)\n",
        "    return task.id\n",
        "\n",
        "  def run_to_completion(self):\n",
        "    # While the queue is not empty, take the next task \n",
        "    # run it by calling `next`, try to catch the result\n",
        "    # if the task is completed, otherwise push it back to\n",
        "    # the end of the queue and pop out next task for\n",
        "    # execution\n",
        "    while len(self.runnable_tasks) != 0:\n",
        "      task = self.runnable_tasks.popleft()\n",
        "      print(f\"Running task {task.id}\")\n",
        "      try:\n",
        "        # run task\n",
        "        yielded = next(task.routine)\n",
        "      # check result\n",
        "      except StopIteration as stopped:\n",
        "        print(f\"----------------------\\nTask {task.id} completed with result: {stopped.value}\")\n",
        "        self.completed_task_result[task.id] = stopped.value\n",
        "      except Exception as e:\n",
        "        print(f\"Failed with exception: {e}\")\n",
        "      else: \n",
        "        assert yielded is None\n",
        "        # print(\"now yielded\")\n",
        "        self.runnable_tasks.append(task)\n",
        "\n"
      ],
      "execution_count": null,
      "outputs": []
    },
    {
      "cell_type": "markdown",
      "metadata": {
        "id": "pzLBOGg2FlhW"
      },
      "source": [
        "##### Try the Scheduler with one task"
      ]
    },
    {
      "cell_type": "code",
      "metadata": {
        "id": "GzCiaF9hBunn",
        "colab": {
          "base_uri": "https://localhost:8080/"
        },
        "outputId": "51597710-9306-48c0-acab-811e82df8312"
      },
      "source": [
        "scheduler = Scheduler()\n",
        "scheduler.add(async_search(fib(), lambda x: len(str(x)) >= 3))"
      ],
      "execution_count": null,
      "outputs": [
        {
          "output_type": "execute_result",
          "data": {
            "text/plain": [
              "0"
            ]
          },
          "metadata": {
            "tags": []
          },
          "execution_count": 14
        }
      ]
    },
    {
      "cell_type": "code",
      "metadata": {
        "id": "q0ZRof5XE89B",
        "colab": {
          "base_uri": "https://localhost:8080/"
        },
        "outputId": "ccbfafac-53c7-46e8-d261-021f477cb2c4"
      },
      "source": [
        "scheduler.run_to_completion()"
      ],
      "execution_count": null,
      "outputs": [
        {
          "output_type": "stream",
          "text": [
            "Running task 0\n",
            "initializing generator\n",
            "async_search - called 1 times\n",
            "Running task 0\n",
            "async_search - called 2 times\n",
            "Running task 0\n",
            "async_search - called 3 times\n",
            "Running task 0\n",
            "async_search - called 4 times\n",
            "Running task 0\n",
            "async_search - called 5 times\n",
            "Running task 0\n",
            "async_search - called 6 times\n",
            "Running task 0\n",
            "async_search - called 7 times\n",
            "Running task 0\n",
            "async_search - called 8 times\n",
            "Running task 0\n",
            "async_search - called 9 times\n",
            "Running task 0\n",
            "async_search - called 10 times\n",
            "Running task 0\n",
            "async_search - called 11 times\n",
            "async_search - predicate returned True\n",
            "----------------------\n",
            "Task 0 completed with result: 123\n"
          ],
          "name": "stdout"
        }
      ]
    },
    {
      "cell_type": "code",
      "metadata": {
        "id": "jIApcJknFIm3",
        "colab": {
          "base_uri": "https://localhost:8080/"
        },
        "outputId": "53709f5f-58ed-46ae-93e3-ded075422e43"
      },
      "source": [
        "# pop the result to get answer\n",
        "scheduler.completed_task_result.pop(0)"
      ],
      "execution_count": null,
      "outputs": [
        {
          "output_type": "execute_result",
          "data": {
            "text/plain": [
              "123"
            ]
          },
          "metadata": {
            "tags": []
          },
          "execution_count": 16
        }
      ]
    },
    {
      "cell_type": "code",
      "metadata": {
        "id": "hAj4XkKIFxyp",
        "colab": {
          "base_uri": "https://localhost:8080/"
        },
        "outputId": "a05ecba9-f699-4240-a3d3-aac541289649"
      },
      "source": [
        "#### Try Scheduler with 2 tasks\n",
        "scheduler = Scheduler()\n",
        "scheduler.add(async_search(fib(), lambda x: len(str(x)) >= 3))\n",
        "scheduler.add(async_search(fib(), lambda x: len(str(x)) >= 4))\n",
        "scheduler.run_to_completion()\n"
      ],
      "execution_count": null,
      "outputs": [
        {
          "output_type": "stream",
          "text": [
            "Running task 1\n",
            "initializing generator\n",
            "async_search - called 1 times\n",
            "Running task 2\n",
            "initializing generator\n",
            "async_search - called 1 times\n",
            "Running task 1\n",
            "async_search - called 2 times\n",
            "Running task 2\n",
            "async_search - called 2 times\n",
            "Running task 1\n",
            "async_search - called 3 times\n",
            "Running task 2\n",
            "async_search - called 3 times\n",
            "Running task 1\n",
            "async_search - called 4 times\n",
            "Running task 2\n",
            "async_search - called 4 times\n",
            "Running task 1\n",
            "async_search - called 5 times\n",
            "Running task 2\n",
            "async_search - called 5 times\n",
            "Running task 1\n",
            "async_search - called 6 times\n",
            "Running task 2\n",
            "async_search - called 6 times\n",
            "Running task 1\n",
            "async_search - called 7 times\n",
            "Running task 2\n",
            "async_search - called 7 times\n",
            "Running task 1\n",
            "async_search - called 8 times\n",
            "Running task 2\n",
            "async_search - called 8 times\n",
            "Running task 1\n",
            "async_search - called 9 times\n",
            "Running task 2\n",
            "async_search - called 9 times\n",
            "Running task 1\n",
            "async_search - called 10 times\n",
            "Running task 2\n",
            "async_search - called 10 times\n",
            "Running task 1\n",
            "async_search - called 11 times\n",
            "async_search - predicate returned True\n",
            "----------------------\n",
            "Task 1 completed with result: 123\n",
            "Running task 2\n",
            "async_search - called 11 times\n",
            "Running task 2\n",
            "async_search - called 12 times\n",
            "Running task 2\n",
            "async_search - called 13 times\n",
            "Running task 2\n",
            "async_search - called 14 times\n",
            "Running task 2\n",
            "async_search - called 15 times\n",
            "Running task 2\n",
            "async_search - called 16 times\n",
            "async_search - predicate returned True\n",
            "----------------------\n",
            "Task 2 completed with result: 1364\n"
          ],
          "name": "stdout"
        }
      ]
    },
    {
      "cell_type": "markdown",
      "metadata": {
        "id": "5coDncUHP8wJ"
      },
      "source": [
        "#### Finding Prime && Fib numbers in an asynchronous way\n",
        "Callees of coroutines must be non-blocking."
      ]
    },
    {
      "cell_type": "code",
      "metadata": {
        "id": "sFGKJlIdUFnp"
      },
      "source": [
        "def async_sleep(interval_secs):\n",
        "  start = time.time()\n",
        "  expiry = start + interval_secs\n",
        "  while True:\n",
        "    yield\n",
        "    now = time.time()\n",
        "    if now > expiry:\n",
        "      break;"
      ],
      "execution_count": null,
      "outputs": []
    },
    {
      "cell_type": "code",
      "metadata": {
        "id": "lcW09v61GF_h"
      },
      "source": [
        "def async_is_prime(x):\n",
        "  if x < 2:\n",
        "    return False\n",
        "\n",
        "  # Simulate IO blocking execution\n",
        "  for i in range(2, int(sqrt(x))+1):\n",
        "    if x % i == 0:\n",
        "      return False\n",
        "    # yield to avoid blocking on large numbers\n",
        "    yield from async_sleep(0)\n",
        "  \n",
        "  return True\n"
      ],
      "execution_count": null,
      "outputs": []
    },
    {
      "cell_type": "code",
      "metadata": {
        "id": "kpZ7d_pRQWB0"
      },
      "source": [
        "async_is_prime(2)"
      ],
      "execution_count": null,
      "outputs": []
    },
    {
      "cell_type": "code",
      "metadata": {
        "id": "v19yElyLQZ-G"
      },
      "source": [
        "def async_print_matches(iterable, async_predicate):\n",
        "  for item in iterable:\n",
        "    # ` yield from` allows the predicate to make progress\n",
        "    # and yield control\n",
        "    matches = yield from async_predicate(item)\n",
        "    if matches:\n",
        "      print(f\"Found: {item}\")\n",
        "    # Keep iterating instead of returning/interrupting  \n",
        "    # yield"
      ],
      "execution_count": null,
      "outputs": []
    },
    {
      "cell_type": "code",
      "metadata": {
        "id": "ygyHYcENQfW6"
      },
      "source": [
        "def async_repetitive_message(msg, interval_secs):\n",
        "  # Periodically print a message\n",
        "  while True:\n",
        "    print(msg)\n",
        "    yield from async_sleep(interval_secs)"
      ],
      "execution_count": null,
      "outputs": []
    },
    {
      "cell_type": "code",
      "metadata": {
        "id": "ZLqf7rQURWcD"
      },
      "source": [
        "sched = Scheduler()\n",
        "sched.add(async_repetitive_message('This is an async message', 2))\n",
        "sched.add(async_print_matches(fib(), async_is_prime))\n",
        "#sched.run_to_completion()"
      ],
      "execution_count": null,
      "outputs": []
    },
    {
      "cell_type": "markdown",
      "metadata": {
        "id": "Jb5MD23JmYKm"
      },
      "source": [
        "#### Replacing implementation with *asyncio*\n",
        "* `import asyncio` \n",
        "* `def async_method_name -> async def method_name`\n",
        "* `async_sleep` -> `asyncio.sleep`\n",
        "* `yield from` -> `await`\n",
        "* `Scheduler` -> asyncio event loop\n",
        "\n",
        "**Note** Run following code in your own IDE"
      ]
    },
    {
      "cell_type": "code",
      "metadata": {
        "id": "hOjJyhqjVtYW"
      },
      "source": [
        "from math import sqrt\n",
        "import asyncio\n",
        "\n",
        "def fib():\n",
        "    \n",
        "    a = 2\n",
        "    b = 1\n",
        "    yield a\n",
        "    while True:\n",
        "#         print(f'yielding {b}')\n",
        "        yield b\n",
        "        a, b = b, a + b\n",
        "        \n",
        "async def is_prime(x):\n",
        "    if x < 2:\n",
        "        return False\n",
        "\n",
        "    for i in range(2, int(sqrt(x))+1):\n",
        "        if x % i == 0:\n",
        "            return False\n",
        "        # yield to avoid blocking on large numbers\n",
        "        await asyncio.sleep(0)\n",
        "  \n",
        "    return True \n",
        "\n",
        "\n",
        "async def search(iterable, predicate):\n",
        "    \n",
        "    print('search')\n",
        "    for item in iterable:\n",
        "#         print(f'search - checking {item}')\n",
        "        if await predicate(item):\n",
        "            print('predicate returned True')\n",
        "            return item\n",
        "\n",
        "        await asyncio.sleep(0)\n",
        "\n",
        "    raise ValueError(\"Not found\")\n",
        "  \n",
        "\n",
        "async def print_matches(iterable, async_predicate):\n",
        "    for item in iterable:\n",
        "        # ` yield from` allows the predicate to make progress\n",
        "        # and yield control back to caller\n",
        "        matches = await async_predicate(item)\n",
        "        if matches:\n",
        "            print(f\"Found: {item}\")\n",
        "\n",
        "async def repetitive_message(msg, interval_secs):\n",
        "    # Periodically print a message\n",
        "    while True:\n",
        "        print(msg)\n",
        "        await asyncio.sleep(interval_secs)  \n",
        "        \n",
        "\n",
        "loop = asyncio.get_event_loop()\n",
        "    \n",
        "search_task = asyncio.ensure_future(\n",
        "    print_matches(fib(), is_prime), loop=loop\n",
        ")\n",
        " \n",
        "\n",
        "repetitive_task = asyncio.ensure_future(\n",
        "    repetitive_message('This is an async message!', 2), \n",
        "    loop=loop\n",
        ")\n",
        "\n",
        "all_future = asyncio.gather(search_task, repetitive_task)\n",
        "\n",
        "loop.run_until_complete(all_future)\n",
        "loop.close()\n"
      ],
      "execution_count": null,
      "outputs": []
    }
  ]
}